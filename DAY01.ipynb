{
 "cells": [
  {
   "cell_type": "code",
   "execution_count": 1,
   "metadata": {},
   "outputs": [],
   "source": [
    "# DAY 23/03/2020"
   ]
  },
  {
   "cell_type": "code",
   "execution_count": 4,
   "metadata": {},
   "outputs": [
    {
     "name": "stdout",
     "output_type": "stream",
     "text": [
      "hello world with the single quotes\n",
      "hello world with double quotes\n",
      "hello world with the triple quotes\n"
     ]
    }
   ],
   "source": [
    "# PRINT() \n",
    "\n",
    "print('hello world with the single quotes')\n",
    "print(\"hello world with double quotes\")\n",
    "print('''hello world with the triple quotes''')\n",
    "\n",
    "# four quotes cannot be used with in the brackets which may end up showing error.\n",
    "# What ever used with in the quotes are considered as strings."
   ]
  },
  {
   "cell_type": "code",
   "execution_count": 7,
   "metadata": {},
   "outputs": [
    {
     "name": "stdout",
     "output_type": "stream",
     "text": [
      " \"hello\", world with the, 'single', quotes\n"
     ]
    }
   ],
   "source": [
    "print(''' \"hello\", world with the, 'single', quotes''')\n",
    "\n",
    "# Triple quotes will allow you to use multiple types quotes like single and double quotes can be within triple quotes\n",
    "# by using commas in between them.\n",
    "# only triple quotes will allow you to do this."
   ]
  },
  {
   "cell_type": "code",
   "execution_count": 8,
   "metadata": {},
   "outputs": [
    {
     "name": "stdout",
     "output_type": "stream",
     "text": [
      "hello world with the single quotes hello world with double quotes hello world with the triple quotes\n"
     ]
    }
   ],
   "source": [
    "# you can print all the statment in a single line\n",
    "\n",
    "print('hello world with the single quotes',\"hello world with double quotes\",'''hello world with the triple quotes''')\n",
    "\n",
    "# commas will separate "
   ]
  },
  {
   "cell_type": "code",
   "execution_count": 9,
   "metadata": {},
   "outputs": [
    {
     "name": "stdout",
     "output_type": "stream",
     "text": [
      "hello world with the single quoteshello world with double quoteshello world with the triple quotes\n"
     ]
    }
   ],
   "source": [
    "# you can print it in a single line by using \"\"END\"\" if dont use \"\"END\"\" automaticaly it will take it as \"\" end='\\n' \"\"\n",
    "# \\n means next line.\n",
    "print('hello world with the single quotes', end='')\n",
    "print(\"hello world with double quotes\", end='')\n",
    "print('''hello world with the triple quotes''')"
   ]
  },
  {
   "cell_type": "code",
   "execution_count": 10,
   "metadata": {},
   "outputs": [
    {
     "name": "stdout",
     "output_type": "stream",
     "text": [
      "10 100 1000\n"
     ]
    }
   ],
   "source": [
    "# VARIABLES\n",
    "\n",
    "a = 10\n",
    "b = 100\n",
    "c = 1000\n",
    "print(a,b,c)"
   ]
  },
  {
   "cell_type": "code",
   "execution_count": 12,
   "metadata": {},
   "outputs": [
    {
     "name": "stdout",
     "output_type": "stream",
     "text": [
      "value of a is 10\n",
      "value of a is 10 value of b is 100 value of c is 1000\n"
     ]
    }
   ],
   "source": [
    "# print() as value of a is 10 value of b is 100 value of c is 1000\n",
    "\n",
    "print('value of a is',a)\n",
    "\n",
    "# using commas in print in a single statment\n",
    "\n",
    "print('value of a is',a,'value of b is',b,'value of c is',c)"
   ]
  },
  {
   "cell_type": "code",
   "execution_count": 20,
   "metadata": {},
   "outputs": [
    {
     "name": "stdout",
     "output_type": "stream",
     "text": [
      "'value of a is',a \n",
      " , 'value of b is',b \n",
      " , 'value of c is',c\n"
     ]
    }
   ],
   "source": [
    "print(\"'value of a is',a \\n , 'value of b is',b \\n , 'value of c is',c\")"
   ]
  },
  {
   "cell_type": "code",
   "execution_count": 18,
   "metadata": {},
   "outputs": [
    {
     "name": "stdout",
     "output_type": "stream",
     "text": [
      "value \n",
      " num\n"
     ]
    }
   ],
   "source": [
    "print('value \\n num')"
   ]
  },
  {
   "cell_type": "code",
   "execution_count": null,
   "metadata": {},
   "outputs": [],
   "source": [
    "# "
   ]
  }
 ],
 "metadata": {
  "kernelspec": {
   "display_name": "Python 3",
   "language": "python",
   "name": "python3"
  },
  "language_info": {
   "codemirror_mode": {
    "name": "ipython",
    "version": 3
   },
   "file_extension": ".py",
   "mimetype": "text/x-python",
   "name": "python",
   "nbconvert_exporter": "python",
   "pygments_lexer": "ipython3",
   "version": "3.7.6"
  }
 },
 "nbformat": 4,
 "nbformat_minor": 4
}
