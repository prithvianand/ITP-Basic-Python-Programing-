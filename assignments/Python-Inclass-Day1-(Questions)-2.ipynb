{
 "cells": [
  {
   "cell_type": "markdown",
   "metadata": {},
   "source": [
    "#### 1.  Python Program to exchange the values of two numbers without using a temporary variable. "
   ]
  },
  {
   "cell_type": "code",
   "execution_count": 7,
   "metadata": {},
   "outputs": [
    {
     "name": "stdout",
     "output_type": "stream",
     "text": [
      "give the value of a2\n",
      "give th value of a8\n",
      "original (2, 8).\n",
      "swaped (8, 2).\n"
     ]
    }
   ],
   "source": [
    "a = int(input(\"give the value of a\"))\n",
    "b = int(input(\"give th value of a\"))\n",
    "c = (a,b)\n",
    "b,a = c\n",
    "print(f'original {c}.')\n",
    "print(f'swaped {a,b}.')"
   ]
  },
  {
   "cell_type": "markdown",
   "metadata": {},
   "source": [
    "##### Code Explanation"
   ]
  },
  {
   "cell_type": "markdown",
   "metadata": {},
   "source": [
    "1. Get the variables a and b using runtime\n",
    "2. Apply Multiple variable, multiple assignment and swap the values\n",
    "3. Print the original and Desired output for display and validate the results.\n",
    "4. Desired output should be swapped values without using temp variable.\n"
   ]
  },
  {
   "cell_type": "markdown",
   "metadata": {},
   "source": [
    "#### 2. Write a python code to replace all  \"a\"  with 2 for the given variable\n"
   ]
  },
  {
   "cell_type": "code",
   "execution_count": 13,
   "metadata": {},
   "outputs": [
    {
     "name": "stdout",
     "output_type": "stream",
     "text": [
      "2rtifici2l intelligence\n"
     ]
    }
   ],
   "source": [
    "# s.replace('a',2)\n",
    "string = 'artificial intelligence'\n",
    "string=string.replace('a','2')\n",
    "print(string)"
   ]
  },
  {
   "cell_type": "markdown",
   "metadata": {},
   "source": [
    "#### 3. Python code for to  remove first character in string?"
   ]
  },
  {
   "cell_type": "code",
   "execution_count": 16,
   "metadata": {},
   "outputs": [
    {
     "name": "stdout",
     "output_type": "stream",
     "text": [
      "rtificial intelligence\n"
     ]
    }
   ],
   "source": [
    "# string [1:] slicing\n",
    "s = 'artificial intelligence'\n",
    "\n",
    "print(s[1::])"
   ]
  },
  {
   "cell_type": "markdown",
   "metadata": {},
   "source": [
    "#### 4. Concatenate two strings  \n",
    "#### desired output :   \"Great Learning\""
   ]
  },
  {
   "cell_type": "code",
   "execution_count": 17,
   "metadata": {},
   "outputs": [
    {
     "name": "stdout",
     "output_type": "stream",
     "text": [
      "Great Learning\n"
     ]
    }
   ],
   "source": [
    "First_Name = \"Great\"\n",
    "Last_Name = \"Learning\"\n",
    "desired_output = First_Name +\" \"+ Last_Name\n",
    "print(desired_output)"
   ]
  },
  {
   "cell_type": "markdown",
   "metadata": {},
   "source": [
    "#### 5. Repeat the string \" Great Learning 3 times \n",
    "#### desired output :  'Great Learning Great Learning Great Learning '"
   ]
  },
  {
   "cell_type": "code",
   "execution_count": 20,
   "metadata": {},
   "outputs": [
    {
     "name": "stdout",
     "output_type": "stream",
     "text": [
      "Great Learning Great Learning Great Learning \n"
     ]
    }
   ],
   "source": [
    "First_Name = \"Great\"\n",
    "Last_Name = \"Learning\"\n",
    "desired_output = First_Name +\" \"+ Last_Name+\" \"\n",
    "print(desired_output *3)"
   ]
  },
  {
   "cell_type": "markdown",
   "metadata": {},
   "source": [
    "#### 6.  Create 3 variables a1,a2,a3 and assign the same values \" 4 \" to all the variables"
   ]
  },
  {
   "cell_type": "code",
   "execution_count": 21,
   "metadata": {},
   "outputs": [
    {
     "name": "stdout",
     "output_type": "stream",
     "text": [
      "4\n",
      "4\n",
      "4\n"
     ]
    }
   ],
   "source": [
    "a1 = a2 =a3 = 4\n",
    "print(a1)\n",
    "print(a2)\n",
    "print(a3)"
   ]
  },
  {
   "cell_type": "markdown",
   "metadata": {},
   "source": [
    "#### 7. The height and weight of a person and calculate BMI of a person?\n"
   ]
  },
  {
   "cell_type": "code",
   "execution_count": 2,
   "metadata": {},
   "outputs": [
    {
     "name": "stdout",
     "output_type": "stream",
     "text": [
      " HEIGHT OF PERSON IN METERS ?? == 1.8\n",
      " WEIGTH OF PERSON IN KGS ?? == 65\n",
      "20.061728395061728\n"
     ]
    }
   ],
   "source": [
    "height = float(input(' HEIGHT OF PERSON IN METERS ?? == '))\n",
    "weigth = float(input(' WEIGTH OF PERSON IN KGS ?? == '))\n",
    "body_mass_index = weigth/(height**2)\n",
    "print(body_mass_index)"
   ]
  },
  {
   "cell_type": "markdown",
   "metadata": {},
   "source": [
    "#### 8.Formula area of circle = pi * r square"
   ]
  },
  {
   "cell_type": "code",
   "execution_count": 5,
   "metadata": {},
   "outputs": [
    {
     "name": "stdout",
     "output_type": "stream",
     "text": [
      "Radius of a circle?? == 22\n",
      "Area of a circle == 1520.530528\n"
     ]
    }
   ],
   "source": [
    "pi = 3.141592\n",
    "r = float(input(\"Radius of a circle?? == \"))\n",
    "area = pi*(r**2)\n",
    "print(f'Area of a circle == {area}')"
   ]
  },
  {
   "cell_type": "markdown",
   "metadata": {},
   "source": [
    "#### 9.Calculate the simple interest\n",
    "#### simple_interest = p * n * r /100\n"
   ]
  },
  {
   "cell_type": "code",
   "execution_count": 6,
   "metadata": {},
   "outputs": [
    {
     "name": "stdout",
     "output_type": "stream",
     "text": [
      "principle amount ?? ==8000\n",
      "duration taken ?? ==3\n",
      "intrest in % per annum ?? ==22\n",
      "Simple Interest 5280.0 .\n"
     ]
    }
   ],
   "source": [
    "p = float(input('principle amount ?? =='))\n",
    "n = float(input('duration taken ?? =='))\n",
    "r = float(input('intrest in % per annum ?? =='))\n",
    "si = (p*n*r)/100\n",
    "print(f'Simple Interest {si} .')"
   ]
  },
  {
   "cell_type": "markdown",
   "metadata": {},
   "source": [
    "#### 10.Python code to calculate the square root of the given number(run time variable)"
   ]
  },
  {
   "cell_type": "code",
   "execution_count": 9,
   "metadata": {},
   "outputs": [
    {
     "name": "stdout",
     "output_type": "stream",
     "text": [
      "number ==25\n",
      "square root of number 25.0 is 5.0.\n"
     ]
    }
   ],
   "source": [
    "num = float(input(\"number ==\"))\n",
    "square_root = num**(1/2)\n",
    "print(f'square root of number {num} is {square_root}.')"
   ]
  },
  {
   "cell_type": "markdown",
   "metadata": {},
   "source": [
    "### IF Statement "
   ]
  },
  {
   "cell_type": "markdown",
   "metadata": {},
   "source": [
    "#### 1. x = 20 and y = 30. Write a pseudocode to find if x is less than y?"
   ]
  },
  {
   "cell_type": "markdown",
   "metadata": {},
   "source": [
    "assign x equal to 20\n",
    "assign y equal to 30\n",
    "case1 apply if condition for x is less than y\n",
    "    than print x is lesser than y\n",
    "case2 else\n",
    "    print y is greater than x\n",
    "    \n"
   ]
  },
  {
   "cell_type": "markdown",
   "metadata": {},
   "source": [
    "# if-else Statement"
   ]
  },
  {
   "cell_type": "markdown",
   "metadata": {},
   "source": [
    "#### 1. Write a pseudocode to check if a student has passed a subject based on a string input (Yes, No)"
   ]
  },
  {
   "cell_type": "markdown",
   "metadata": {},
   "source": [
    "assign result equal to \"yes\" or \"no\" as input value\n",
    "case1 if result == \"yes\" then\n",
    "    print result is \"pass\"\n",
    "case2 elif result == \"no\" then\n",
    "    print result is \"fail\"\n"
   ]
  },
  {
   "cell_type": "markdown",
   "metadata": {},
   "source": [
    "#### 2. Take the password as an input and check if it is equal to 'great'. Show a message accordingly. Write a pseudocode for this."
   ]
  },
  {
   "cell_type": "markdown",
   "metadata": {},
   "source": [
    "take a input as password\n",
    "case1 if the password == 'great'\n",
    "    then print the message as great\n",
    "case2 elif the password == 'greater'\n",
    "    then print the message as greater"
   ]
  },
  {
   "cell_type": "markdown",
   "metadata": {},
   "source": [
    "## Nested if Statement"
   ]
  },
  {
   "cell_type": "raw",
   "metadata": {},
   "source": [
    "1. Based on the users age, divide them in to three groups \n",
    "Group 1 : Age <18 , Minors who are not eligible to work\n",
    "Group 2 : 18<Age<60 , ELigible to work\n",
    "Group 3 : >60, Too old to work as per govt. regulations. \n",
    "\n",
    "Write a pseudocode for the same"
   ]
  },
  {
   "cell_type": "markdown",
   "metadata": {},
   "source": [
    "assign a age as input age of person\n",
    "case1 if the age less than 18 then\n",
    "    print the message as \"Minirs who are not eligible to work\"\n",
    "    case2 if the age greater than 60 then\n",
    "        print the message as \"Too old to work as per govt. regulation\"\n",
    "    care3 else then\n",
    "        print the message as \"Eligible to work\""
   ]
  },
  {
   "cell_type": "markdown",
   "metadata": {},
   "source": [
    "# While Loop"
   ]
  },
  {
   "cell_type": "raw",
   "metadata": {},
   "source": [
    "1. Take an integer as input from the user and print all the numbers from 0 to that number in reverse order. \n",
    "\n",
    "Example : if the input is 3, the output should be\n",
    "3\n",
    "2\n",
    "1"
   ]
  },
  {
   "cell_type": "code",
   "execution_count": 10,
   "metadata": {},
   "outputs": [
    {
     "name": "stdout",
     "output_type": "stream",
     "text": [
      "number3\n",
      "3\n",
      "2\n",
      "1\n"
     ]
    }
   ],
   "source": [
    "num = int(input(\"number\"))\n",
    "i = num\n",
    "while i >= 1:\n",
    "    print(i)\n",
    "    i = i-1\n",
    "\n",
    "    \n",
    "\n",
    "    "
   ]
  },
  {
   "cell_type": "raw",
   "metadata": {},
   "source": [
    "2.  Write a pseudocode to find the squares of all the numbers based on an input. \n",
    "\n",
    "Example : If the input is 10, the output should be\n",
    "1*1 ,2*2 ,3*3...... 10*10?"
   ]
  },
  {
   "cell_type": "markdown",
   "metadata": {},
   "source": [
    "creat a variable i assigning to 1\n",
    "while loop condition of i less than or equal to the 10 then go step 3\n",
    "print the condition i ** 2\n",
    "increment the i equal to 1 here loop will happen until it reaches to 10.\n"
   ]
  },
  {
   "cell_type": "markdown",
   "metadata": {},
   "source": [
    "# FOR LOOP"
   ]
  },
  {
   "cell_type": "raw",
   "metadata": {},
   "source": [
    "1. Write a pseudocode to print the multiplication table of a given number.\n",
    "\n",
    "Example : if the number is 3, the output should print the below :  \n",
    "3 X 1 = 3\n",
    "3 X 2 = 6\n",
    "...\n",
    "3 X 10 =30"
   ]
  },
  {
   "cell_type": "markdown",
   "metadata": {},
   "source": [
    "create a number and store it in a variable is n.\n",
    "for loop condition i in the range between(1,11) and go to step 3\n",
    "print statement thee condition is n, 'x', i, '=' , n*i and it will print the multiplied number \n",
    "and given number.\n",
    "exit."
   ]
  },
  {
   "cell_type": "markdown",
   "metadata": {},
   "source": [
    "#### 2. Write a pseudocode to print squares of all numbers present in a list = [1, 12, 24, 36, 11, 20,50]\n"
   ]
  },
  {
   "cell_type": "markdown",
   "metadata": {},
   "source": [
    "assign a numbers in a list as num.\n",
    "create a new empty by the name square.\n",
    "case1 conditon for is used where i in the length of the string then\n",
    "    append the empty list square by i\n",
    "    then print the square"
   ]
  }
 ],
 "metadata": {
  "kernelspec": {
   "display_name": "Python 3",
   "language": "python",
   "name": "python3"
  },
  "language_info": {
   "codemirror_mode": {
    "name": "ipython",
    "version": 3
   },
   "file_extension": ".py",
   "mimetype": "text/x-python",
   "name": "python",
   "nbconvert_exporter": "python",
   "pygments_lexer": "ipython3",
   "version": "3.7.6"
  }
 },
 "nbformat": 4,
 "nbformat_minor": 2
}
