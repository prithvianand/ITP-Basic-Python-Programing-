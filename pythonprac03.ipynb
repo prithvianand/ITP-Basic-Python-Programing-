{
 "cells": [
  {
   "cell_type": "code",
   "execution_count": 2,
   "metadata": {},
   "outputs": [
    {
     "name": "stdout",
     "output_type": "stream",
     "text": [
      "press 1 for addition , 2 for subtraction , 3 for division, 4 for multipication2\n",
      "2\n",
      "3\n",
      "-1.0\n",
      "Answer\n"
     ]
    }
   ],
   "source": [
    "# Calculator problem\n",
    "\n",
    "x = int(input('press 1 for addition , 2 for subtraction , 3 for division, 4 for multipication'))\n",
    "\n",
    "a = float(input())\n",
    "b = float(input())\n",
    "\n",
    "if x == 1:\n",
    "    a1 = a + b\n",
    "    print(a1)\n",
    "elif x == 2:\n",
    "    a2 = a - b\n",
    "    print(a2)\n",
    "elif x == 3:\n",
    "    a3 = a/b\n",
    "    print(a3)\n",
    "else:\n",
    "    a4 = a*b\n",
    "    print(a4)\n",
    "print('Answer')\n",
    "\n",
    "\n",
    "        "
   ]
  },
  {
   "cell_type": "code",
   "execution_count": null,
   "metadata": {},
   "outputs": [],
   "source": []
  }
 ],
 "metadata": {
  "kernelspec": {
   "display_name": "Python 3",
   "language": "python",
   "name": "python3"
  },
  "language_info": {
   "codemirror_mode": {
    "name": "ipython",
    "version": 3
   },
   "file_extension": ".py",
   "mimetype": "text/x-python",
   "name": "python",
   "nbconvert_exporter": "python",
   "pygments_lexer": "ipython3",
   "version": "3.7.6"
  }
 },
 "nbformat": 4,
 "nbformat_minor": 4
}
