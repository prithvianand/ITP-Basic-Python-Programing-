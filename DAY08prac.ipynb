{
 "cells": [
  {
   "cell_type": "markdown",
   "metadata": {},
   "source": [
    "# Q. Take a list of 5 names of fruits. convert each name to upper case and print the updated list"
   ]
  },
  {
   "cell_type": "code",
   "execution_count": null,
   "metadata": {},
   "outputs": [],
   "source": [
    "fruits = ['mango','banana','jack fruit','orange','berries']\n",
    "l1=[]\n",
    "for i in range(len(fruits)):\n",
    "    l1.append(fruits[i].upper())\n",
    "print(l1)\n",
    "    "
   ]
  },
  {
   "cell_type": "markdown",
   "metadata": {},
   "source": [
    "## it can done in this way also"
   ]
  },
  {
   "cell_type": "code",
   "execution_count": null,
   "metadata": {},
   "outputs": [],
   "source": [
    "fruits = ['mango','banana','jack fruit','orange','berries']\n",
    "\n",
    "for i in range(len(fruits)):\n",
    "    fruits[i] = fruits[i].upper()\n",
    "print(l1)"
   ]
  },
  {
   "cell_type": "markdown",
   "metadata": {},
   "source": [
    "## Q. Take a dictionary having the value\"Mary\" repeated for 3 keys.\n",
    "## wherever the value is \"Mary\" replace it by \"Dora\".\n",
    "## Print the updated dictionary."
   ]
  },
  {
   "cell_type": "code",
   "execution_count": null,
   "metadata": {},
   "outputs": [],
   "source": [
    "d = {'Mary':'a1','Dora':'a2','Mary':'a3','Mary':'b1','jack':'b2'}\n",
    "\n",
    "for key,value in d.items():\n",
    "    if value == 'Mary':\n",
    "        d[key] == 'Dora'\n",
    "print(d)"
   ]
  },
  {
   "cell_type": "markdown",
   "metadata": {},
   "source": [
    "## question need to be asked in class"
   ]
  },
  {
   "cell_type": "code",
   "execution_count": 3,
   "metadata": {},
   "outputs": [
    {
     "ename": "RuntimeError",
     "evalue": "dictionary changed size during iteration",
     "output_type": "error",
     "traceback": [
      "\u001b[1;31m---------------------------------------------------------------------------\u001b[0m",
      "\u001b[1;31mRuntimeError\u001b[0m                              Traceback (most recent call last)",
      "\u001b[1;32m<ipython-input-3-f38c68c39dad>\u001b[0m in \u001b[0;36m<module>\u001b[1;34m\u001b[0m\n\u001b[0;32m      1\u001b[0m \u001b[0md\u001b[0m \u001b[1;33m=\u001b[0m \u001b[1;33m{\u001b[0m\u001b[1;34m\"Mary\"\u001b[0m\u001b[1;33m:\u001b[0m\u001b[1;34m\"a1\"\u001b[0m\u001b[1;33m,\u001b[0m\u001b[1;34m\"Dora\"\u001b[0m\u001b[1;33m:\u001b[0m\u001b[1;34m\"a2\"\u001b[0m\u001b[1;33m,\u001b[0m\u001b[1;34m\"Mary\"\u001b[0m\u001b[1;33m:\u001b[0m\u001b[1;34m\"a3\"\u001b[0m\u001b[1;33m,\u001b[0m\u001b[1;34m\"Mary\"\u001b[0m\u001b[1;33m:\u001b[0m\u001b[1;34m\"b1\"\u001b[0m\u001b[1;33m,\u001b[0m\u001b[1;34m\"jack\"\u001b[0m\u001b[1;33m:\u001b[0m\u001b[1;34m\"b2\"\u001b[0m\u001b[1;33m}\u001b[0m\u001b[1;33m\u001b[0m\u001b[1;33m\u001b[0m\u001b[0m\n\u001b[0;32m      2\u001b[0m \u001b[1;33m\u001b[0m\u001b[0m\n\u001b[1;32m----> 3\u001b[1;33m \u001b[1;32mfor\u001b[0m \u001b[0mkey\u001b[0m\u001b[1;33m,\u001b[0m\u001b[0mvalue\u001b[0m \u001b[1;32min\u001b[0m \u001b[0md\u001b[0m\u001b[1;33m.\u001b[0m\u001b[0mitems\u001b[0m\u001b[1;33m(\u001b[0m\u001b[1;33m)\u001b[0m\u001b[1;33m:\u001b[0m\u001b[1;33m\u001b[0m\u001b[1;33m\u001b[0m\u001b[0m\n\u001b[0m\u001b[0;32m      4\u001b[0m     \u001b[1;32mif\u001b[0m \u001b[0mkey\u001b[0m \u001b[1;33m==\u001b[0m \u001b[1;34m\"Mary\"\u001b[0m\u001b[1;33m:\u001b[0m\u001b[1;33m\u001b[0m\u001b[1;33m\u001b[0m\u001b[0m\n\u001b[0;32m      5\u001b[0m         \u001b[0md\u001b[0m\u001b[1;33m[\u001b[0m\u001b[0mvalue\u001b[0m\u001b[1;33m]\u001b[0m \u001b[1;33m=\u001b[0m\u001b[1;34m\"Dora\"\u001b[0m\u001b[1;33m\u001b[0m\u001b[1;33m\u001b[0m\u001b[0m\n",
      "\u001b[1;31mRuntimeError\u001b[0m: dictionary changed size during iteration"
     ]
    }
   ],
   "source": [
    "d = {\"Mary\":\"a1\",\"Dora\":\"a2\",\"Mary\":\"a3\",\"Mary\":\"b1\",\"jack\":\"b2\"}\n",
    "\n",
    "for key,value in d.items():\n",
    "    if key == \"Mary\":\n",
    "        d[value] =\"Dora\"\n",
    "print(d)"
   ]
  },
  {
   "cell_type": "markdown",
   "metadata": {},
   "source": [
    "## Q. Take a list of 10 numbers. If the number is even, square it. If the number is odd, cube it. Do not make the changes in the original list. Show the output as list after the changes have been made. Print both the original list, and the changed list."
   ]
  },
  {
   "cell_type": "code",
   "execution_count": 8,
   "metadata": {},
   "outputs": [
    {
     "name": "stdout",
     "output_type": "stream",
     "text": [
      "This is the Original List ==> [1, 3, 2, 4, 6, 5, 7, 9, 8, 10] .\n",
      "This is the Changed Number List ==> [1, 27, 4, 16, 36, 125, 343, 729, 64, 100] .\n"
     ]
    }
   ],
   "source": [
    "num = [1,3,2,4,6,5,7,9,8,10]\n",
    "\n",
    "num1 = []\n",
    "\n",
    "for i in range(len(num)):\n",
    "    if num[i]%2 == 0:\n",
    "        num1.append(num[i]**2)\n",
    "    else:\n",
    "        num1.append(num[i]**3)\n",
    "print(f'This is the Original List ==> {num} .',end='\\n')\n",
    "print(f'This is the Changed Number List ==> {num1} .')\n",
    "\n",
    "        "
   ]
  },
  {
   "cell_type": "markdown",
   "metadata": {},
   "source": [
    "## Q. s = \"Once upon a time there was a king. His name was Arthur. He was a great king.\" make a list of all words in this string which have length greater than 4. Convert all to upper case. Make a separate list of the other words . convert all to lower case. print out the 2 lists of words."
   ]
  },
  {
   "cell_type": "code",
   "execution_count": 26,
   "metadata": {},
   "outputs": [
    {
     "name": "stdout",
     "output_type": "stream",
     "text": [
      " Length of the string is more than 4, then the list in upper case are ['ONCE', 'UPON', 'TIME', 'THERE', 'KING', 'NAME', 'ARTHUR', 'GREAT', 'KING'] .\n",
      " Length of the string is less than 4, then the list in lower case are ['a', 'was', 'a', 'his', 'was', 'he', 'was', 'a'] .\n"
     ]
    }
   ],
   "source": [
    "st = \"Once upon a time there was a king. His name was arthur. He was a great king\"\n",
    "\n",
    "st2 = st.split(\".\")\n",
    "\n",
    "st2\n",
    "\n",
    "res = []\n",
    "\n",
    "for i in st2:\n",
    "    y = i.split()\n",
    "    res.extend(y)\n",
    "\n",
    "res\n",
    "\n",
    "List_upper=[]\n",
    "List_lower=[]\n",
    "\n",
    "for x in res:\n",
    "    if len(x) >= 4:\n",
    "        List_upper.append(x.upper())\n",
    "    else:\n",
    "        List_lower.append(x.lower())\n",
    "print(f' Length of the string is more than 4, then the list in upper case are {List_upper} .',end='\\n')\n",
    "print(f' Length of the string is less than 4, then the list in lower case are {List_lower} .')\n",
    "        \n",
    "    "
   ]
  },
  {
   "cell_type": "code",
   "execution_count": 27,
   "metadata": {},
   "outputs": [
    {
     "name": "stdout",
     "output_type": "stream",
     "text": [
      "['once', 'upon', 'a', 'time', 'THERE', 'was', 'a', 'king', 'his', 'name', 'was', 'ARTHUR', 'he', 'was', 'a', 'GREAT', 'king']\n"
     ]
    }
   ],
   "source": [
    "st = \"Once upon a time there was a king. His name was arthur. He was a great king\"\n",
    "\n",
    "st2 = st.split(\".\")\n",
    "\n",
    "st2\n",
    "\n",
    "res = []\n",
    "\n",
    "for i in st2:\n",
    "    y = i.split()\n",
    "    res.extend(y)\n",
    "\n",
    "res\n",
    "\n",
    "for x in range(len(res)):\n",
    "    \n",
    "    if(len(res[x])>4):\n",
    "        res[x] = res[x].upper()\n",
    "    else:\n",
    "        res[x] = res[x].lower()\n",
    "print(res)"
   ]
  },
  {
   "cell_type": "markdown",
   "metadata": {},
   "source": [
    "## While Loop"
   ]
  },
  {
   "cell_type": "code",
   "execution_count": 28,
   "metadata": {},
   "outputs": [
    {
     "name": "stdout",
     "output_type": "stream",
     "text": [
      "This will print 5 times\n",
      "This will print 5 times\n",
      "This will print 5 times\n",
      "This will print 5 times\n",
      "This will print 5 times\n",
      "Printed after while loop broken\n"
     ]
    }
   ],
   "source": [
    "# use of while\n",
    "\n",
    "x = 0\n",
    "while x < 5:\n",
    "    print('This will print 5 times')\n",
    "    x += 1 # equivalent to 'count = count + 1'\n",
    "print(\"Printed after while loop broken\")"
   ]
  },
  {
   "cell_type": "markdown",
   "metadata": {},
   "source": [
    "## Q. Take a list of 5 names of fruits. convert each name to upper case and print the updated list using while loop"
   ]
  },
  {
   "cell_type": "code",
   "execution_count": 30,
   "metadata": {},
   "outputs": [
    {
     "name": "stdout",
     "output_type": "stream",
     "text": [
      "['MANGO', 'BANANA', 'JACK FRUIT', 'ORANGE', 'BERRIES']\n"
     ]
    }
   ],
   "source": [
    "fruits = ['mango','banana','jack fruit','orange','berries']\n",
    "\n",
    "i = 0\n",
    "\n",
    "while i < len(fruits):\n",
    "    fruits[i] = fruits[i].upper()\n",
    "    i+=1\n",
    "print(fruits)"
   ]
  },
  {
   "cell_type": "markdown",
   "metadata": {},
   "source": [
    "## Q. Write a program to add the first n natural numbers. take the value of n as an input from the user. (Using while loop)"
   ]
  },
  {
   "cell_type": "code",
   "execution_count": 34,
   "metadata": {},
   "outputs": [
    {
     "name": "stdout",
     "output_type": "stream",
     "text": [
      "Please enter your n ==>.12\n",
      "list of n natral no's==> [2, 3, 4, 5, 6, 7, 8, 9, 10, 11, 12, 13]\n",
      "sum of l1 ==> 77\n"
     ]
    }
   ],
   "source": [
    "n = int(input('Please enter your n ==>.'))\n",
    "l1=[]\n",
    "if n < 1:\n",
    "    print(\"Not a natural number any other value\")\n",
    "else:\n",
    "    i = 1\n",
    "    while i <= n:\n",
    "        x=sum(l1)\n",
    "        i+=1\n",
    "        l1.append(i)\n",
    "print(\"list of n natral no's==>\",l1)\n",
    "print(\"sum of l1 ==>\",x)\n",
    "\n",
    "        "
   ]
  },
  {
   "cell_type": "markdown",
   "metadata": {},
   "source": [
    "## Q. Write a code to find orange. and other fruits in the upper case ### when orange is found print (\" orange is found\")\n"
   ]
  },
  {
   "cell_type": "code",
   "execution_count": 3,
   "metadata": {},
   "outputs": [
    {
     "name": "stdout",
     "output_type": "stream",
     "text": [
      "Orange is found\n"
     ]
    },
    {
     "ename": "IndexError",
     "evalue": "list index out of range",
     "output_type": "error",
     "traceback": [
      "\u001b[1;31m---------------------------------------------------------------------------\u001b[0m",
      "\u001b[1;31mIndexError\u001b[0m                                Traceback (most recent call last)",
      "\u001b[1;32m<ipython-input-3-1fe659a4d446>\u001b[0m in \u001b[0;36m<module>\u001b[1;34m\u001b[0m\n\u001b[0;32m      3\u001b[0m \u001b[0mi\u001b[0m \u001b[1;33m=\u001b[0m \u001b[1;36m0\u001b[0m\u001b[1;33m\u001b[0m\u001b[1;33m\u001b[0m\u001b[0m\n\u001b[0;32m      4\u001b[0m \u001b[1;32mwhile\u001b[0m \u001b[0mi\u001b[0m \u001b[1;33m<=\u001b[0m \u001b[0mint\u001b[0m\u001b[1;33m(\u001b[0m\u001b[0mlen\u001b[0m\u001b[1;33m(\u001b[0m\u001b[0mfruits\u001b[0m\u001b[1;33m)\u001b[0m\u001b[1;33m)\u001b[0m\u001b[1;33m:\u001b[0m\u001b[1;33m\u001b[0m\u001b[1;33m\u001b[0m\u001b[0m\n\u001b[1;32m----> 5\u001b[1;33m     \u001b[1;32mif\u001b[0m \u001b[0mfruits\u001b[0m\u001b[1;33m[\u001b[0m\u001b[0mi\u001b[0m\u001b[1;33m]\u001b[0m \u001b[1;33m==\u001b[0m \u001b[1;34m'orange'\u001b[0m\u001b[1;33m:\u001b[0m\u001b[1;33m\u001b[0m\u001b[1;33m\u001b[0m\u001b[0m\n\u001b[0m\u001b[0;32m      6\u001b[0m         \u001b[0ml1\u001b[0m\u001b[1;33m.\u001b[0m\u001b[0mappend\u001b[0m\u001b[1;33m(\u001b[0m\u001b[0mprint\u001b[0m\u001b[1;33m(\u001b[0m\u001b[1;34m\"Orange is found\"\u001b[0m\u001b[1;33m)\u001b[0m\u001b[1;33m)\u001b[0m\u001b[1;33m\u001b[0m\u001b[1;33m\u001b[0m\u001b[0m\n\u001b[0;32m      7\u001b[0m     \u001b[1;32melse\u001b[0m\u001b[1;33m:\u001b[0m\u001b[1;33m\u001b[0m\u001b[1;33m\u001b[0m\u001b[0m\n",
      "\u001b[1;31mIndexError\u001b[0m: list index out of range"
     ]
    }
   ],
   "source": [
    "fruits = ['mango','apple','guava','orange','banana']\n",
    "l1= []\n",
    "i = 0\n",
    "while i <= int(len(fruits)):\n",
    "    if fruits[i] == 'orange':\n",
    "        l1.append(print(\"Orange is found\"))\n",
    "    else:\n",
    "        l1.append(fruits[i].upper())\n",
    "    i+=1\n",
    "print(l1)        "
   ]
  },
  {
   "cell_type": "code",
   "execution_count": null,
   "metadata": {},
   "outputs": [],
   "source": []
  }
 ],
 "metadata": {
  "kernelspec": {
   "display_name": "Python 3",
   "language": "python",
   "name": "python3"
  },
  "language_info": {
   "codemirror_mode": {
    "name": "ipython",
    "version": 3
   },
   "file_extension": ".py",
   "mimetype": "text/x-python",
   "name": "python",
   "nbconvert_exporter": "python",
   "pygments_lexer": "ipython3",
   "version": "3.7.6"
  }
 },
 "nbformat": 4,
 "nbformat_minor": 4
}
