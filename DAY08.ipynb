{
 "cells": [
  {
   "cell_type": "code",
   "execution_count": null,
   "metadata": {},
   "outputs": [],
   "source": [
    "# Q1 sum of n natural numbers??\n",
    "\n",
    "\n",
    "n = int(input(\"Value of n ==>\"))\n",
    "i = 1\n",
    "sum = 0\n",
    "while i <= n:\n",
    "    sum = sum + i\n",
    "    i=i+1\n",
    "print(\"sum\",sum)"
   ]
  },
  {
   "cell_type": "code",
   "execution_count": 2,
   "metadata": {},
   "outputs": [
    {
     "name": "stdout",
     "output_type": "stream",
     "text": [
      "orange has been found\n",
      "['mango', 'jackfruit', 'xyz', 'abc', 'bcd']\n"
     ]
    }
   ],
   "source": [
    "# break\n",
    "\n",
    "# Q2\n",
    "\n",
    "fruits = ['mango','jackfruit','xyz','abc','bcd']\n",
    "i = 0\n",
    "while i < len(fruits):\n",
    "    if (fruits[i] == \"orange\"):\n",
    "        print(friut[i].upper())\n",
    "        i+=1\n",
    "        continue\n",
    "    print(\"orange has been found\")\n",
    "    break\n",
    "    \n",
    "    \n",
    "print(fruits)"
   ]
  },
  {
   "cell_type": "markdown",
   "metadata": {},
   "source": [
    "Q3 \n",
    "write a code  to that picks a random integer from 1 to 100 and has players guess the number. The rules are :\n",
    "\n",
    "\n",
    "\n",
    "### 1.if players guess is less than 1 or greater than 100, say \"out of bounds\"\n",
    "### 2.on a players first turn , if their guess is \n",
    "#### --within 10 of the number , return  \"warm\"\n",
    "#### --over 10 of the away from the number \"cold\"\n",
    "### 3.on all subsequent turns, if a guess is \n",
    "#### --closer to the number than the previous guess return \"warmer\"\n",
    "#### --farther from the number than the previous guess, return \"colder\"\n",
    "### 4.when the player guess the number correct, tell them they've guessed correctly  and how many guesses it took "
   ]
  },
  {
   "cell_type": "code",
   "execution_count": null,
   "metadata": {},
   "outputs": [
    {
     "name": "stdout",
     "output_type": "stream",
     "text": [
      "guess the number ==> 29\n",
      "warm\n",
      "guess the number ==> 12\n",
      "colder!\n",
      "guess the number ==> 15\n",
      "warmer!\n"
     ]
    }
   ],
   "source": [
    "import random\n",
    "num = random.randint(1,100)\n",
    "\n",
    "guesses =[0]\n",
    "\n",
    "while True:\n",
    "    \n",
    "    x = int(input(\"guess the number ==> \"))\n",
    "\n",
    "    # check guess is with in the range 1 to 100 \n",
    "\n",
    "    if x < 1 or x > 100:\n",
    "        print(\"Guess out of the bounds\")\n",
    "        continue\n",
    "    \n",
    "    \n",
    "    if x == num:\n",
    "        print(f'congratulations, you guessed it in only {len(guesses)}guesses!!')\n",
    "        break\n",
    "        \n",
    "    guesses.append(x)\n",
    "              \n",
    "            \n",
    "    if guesses[-2] != 0: \n",
    "        if abs(num-x) < abs (num-guesses[-2]):\n",
    "              print(\"warmer!\")\n",
    "        else:\n",
    "              print(\"colder!\")\n",
    "    else:\n",
    "        if abs(num-x) <= 10:\n",
    "              print(\"warm\")\n",
    "        else:\n",
    "              print(\"cold\")"
   ]
  },
  {
   "cell_type": "markdown",
   "metadata": {},
   "source": [
    "# Functions"
   ]
  },
  {
   "cell_type": "markdown",
   "metadata": {},
   "source": [
    "# it is a block of code were ever it is required it returns again and again"
   ]
  },
  {
   "cell_type": "code",
   "execution_count": 1,
   "metadata": {},
   "outputs": [],
   "source": [
    "def print_text():\n",
    "    print('this is text')\n",
    "    print('second')\n",
    "    print('third')"
   ]
  },
  {
   "cell_type": "code",
   "execution_count": 2,
   "metadata": {},
   "outputs": [
    {
     "name": "stdout",
     "output_type": "stream",
     "text": [
      "this is text\n",
      "second\n",
      "third\n",
      "13\n",
      "this is text\n",
      "second\n",
      "third\n"
     ]
    }
   ],
   "source": [
    "print_text()\n",
    "a=6\n",
    "b=7\n",
    "print(a+b)\n",
    "print_text()"
   ]
  },
  {
   "cell_type": "code",
   "execution_count": 3,
   "metadata": {},
   "outputs": [],
   "source": [
    "def addition(a,b,c):\n",
    "    print(\"request\",a+b+c)"
   ]
  },
  {
   "cell_type": "code",
   "execution_count": 4,
   "metadata": {},
   "outputs": [
    {
     "name": "stdout",
     "output_type": "stream",
     "text": [
      "request 10\n"
     ]
    }
   ],
   "source": [
    "addition(3,2,5)"
   ]
  },
  {
   "cell_type": "markdown",
   "metadata": {},
   "source": [
    "# assignment is not possible"
   ]
  },
  {
   "cell_type": "code",
   "execution_count": 7,
   "metadata": {},
   "outputs": [],
   "source": [
    "def addition(a,b,c):\n",
    "    return a+b+c"
   ]
  },
  {
   "cell_type": "code",
   "execution_count": 8,
   "metadata": {},
   "outputs": [],
   "source": [
    "x = addition(1,4,7)"
   ]
  },
  {
   "cell_type": "code",
   "execution_count": 9,
   "metadata": {},
   "outputs": [
    {
     "data": {
      "text/plain": [
       "12"
      ]
     },
     "execution_count": 9,
     "metadata": {},
     "output_type": "execute_result"
    }
   ],
   "source": [
    "x"
   ]
  },
  {
   "cell_type": "markdown",
   "metadata": {},
   "source": [
    "# if we use return is assigned"
   ]
  },
  {
   "cell_type": "code",
   "execution_count": 11,
   "metadata": {},
   "outputs": [],
   "source": [
    "def add_sub(a,b):\n",
    "    return a+b,a-b\n"
   ]
  },
  {
   "cell_type": "code",
   "execution_count": 12,
   "metadata": {},
   "outputs": [],
   "source": [
    "x,y = add_sub(8,3)"
   ]
  },
  {
   "cell_type": "code",
   "execution_count": 13,
   "metadata": {},
   "outputs": [
    {
     "data": {
      "text/plain": [
       "11"
      ]
     },
     "execution_count": 13,
     "metadata": {},
     "output_type": "execute_result"
    }
   ],
   "source": [
    "x"
   ]
  },
  {
   "cell_type": "code",
   "execution_count": 14,
   "metadata": {},
   "outputs": [
    {
     "data": {
      "text/plain": [
       "5"
      ]
     },
     "execution_count": 14,
     "metadata": {},
     "output_type": "execute_result"
    }
   ],
   "source": [
    "y"
   ]
  },
  {
   "cell_type": "markdown",
   "metadata": {},
   "source": [
    "# if use only one argive ment it will throw us as an error"
   ]
  },
  {
   "cell_type": "code",
   "execution_count": 16,
   "metadata": {},
   "outputs": [],
   "source": [
    "def nothing():\n",
    "    return\n"
   ]
  },
  {
   "cell_type": "code",
   "execution_count": 17,
   "metadata": {},
   "outputs": [],
   "source": [
    "x = nothing()"
   ]
  },
  {
   "cell_type": "code",
   "execution_count": 18,
   "metadata": {},
   "outputs": [],
   "source": [
    "x"
   ]
  },
  {
   "cell_type": "code",
   "execution_count": 19,
   "metadata": {},
   "outputs": [
    {
     "data": {
      "text/plain": [
       "NoneType"
      ]
     },
     "execution_count": 19,
     "metadata": {},
     "output_type": "execute_result"
    }
   ],
   "source": [
    "type(x)"
   ]
  },
  {
   "cell_type": "code",
   "execution_count": 20,
   "metadata": {},
   "outputs": [],
   "source": [
    "# if we dont specifie any thing it will show none type"
   ]
  },
  {
   "cell_type": "code",
   "execution_count": 21,
   "metadata": {},
   "outputs": [],
   "source": [
    "def min_max(num):\n",
    "    return min(num), max(num)"
   ]
  },
  {
   "cell_type": "code",
   "execution_count": 23,
   "metadata": {},
   "outputs": [
    {
     "data": {
      "text/plain": [
       "(1, 3)"
      ]
     },
     "execution_count": 23,
     "metadata": {},
     "output_type": "execute_result"
    }
   ],
   "source": [
    "num =[1, 2, 3]\n",
    "min1_max1 = min_max(num)\n",
    "min1_max1"
   ]
  },
  {
   "cell_type": "code",
   "execution_count": null,
   "metadata": {},
   "outputs": [],
   "source": [
    "min_num, max_num"
   ]
  },
  {
   "cell_type": "markdown",
   "metadata": {},
   "source": [
    "# Q. writr a function to find the absolute value of an integer"
   ]
  },
  {
   "cell_type": "code",
   "execution_count": 24,
   "metadata": {},
   "outputs": [],
   "source": [
    "def abs_int_x(x):\n",
    "    if (a<0):\n",
    "        return -x\n",
    "    else:\n",
    "        return x\n"
   ]
  },
  {
   "cell_type": "code",
   "execution_count": 26,
   "metadata": {},
   "outputs": [
    {
     "data": {
      "text/plain": [
       "-5"
      ]
     },
     "execution_count": 26,
     "metadata": {},
     "output_type": "execute_result"
    }
   ],
   "source": [
    "abs_int_x(-5)"
   ]
  },
  {
   "cell_type": "code",
   "execution_count": 27,
   "metadata": {},
   "outputs": [
    {
     "data": {
      "text/plain": [
       "10"
      ]
     },
     "execution_count": 27,
     "metadata": {},
     "output_type": "execute_result"
    }
   ],
   "source": [
    "abs_int_x(10)"
   ]
  },
  {
   "cell_type": "markdown",
   "metadata": {},
   "source": [
    "# Q write a function to swap the valus of 2 variables"
   ]
  },
  {
   "cell_type": "code",
   "execution_count": 30,
   "metadata": {},
   "outputs": [],
   "source": [
    "def swap(a,b):\n",
    "    temp = a\n",
    "    a = b\n",
    "    b = temp\n",
    "    return a,b"
   ]
  },
  {
   "cell_type": "code",
   "execution_count": 33,
   "metadata": {},
   "outputs": [
    {
     "name": "stdout",
     "output_type": "stream",
     "text": [
      "20 10\n"
     ]
    }
   ],
   "source": [
    "x = 10\n",
    "y = 20\n",
    "x,y = swap(x,y)\n",
    "print(x,y)"
   ]
  },
  {
   "cell_type": "markdown",
   "metadata": {},
   "source": [
    "# Q. write a function to check if a number is prime or not??"
   ]
  },
  {
   "cell_type": "code",
   "execution_count": 40,
   "metadata": {},
   "outputs": [],
   "source": [
    "def prime_or_not(x):\n",
    "    if a>1:\n",
    "        if x//2 == 0:\n",
    "            return print(\"prime\")\n",
    "        else:\n",
    "            return print(\"not\")\n",
    "    "
   ]
  },
  {
   "cell_type": "code",
   "execution_count": 39,
   "metadata": {},
   "outputs": [
    {
     "name": "stdout",
     "output_type": "stream",
     "text": [
      "prime\n"
     ]
    }
   ],
   "source": [
    "x=prime_or_not(x)"
   ]
  },
  {
   "cell_type": "code",
   "execution_count": 57,
   "metadata": {},
   "outputs": [],
   "source": [
    "def prime_or_not(a):\n",
    "    if a>1:\n",
    "        for i in range(2,(a//2)+1):\n",
    "            if(a % i ) == 0:\n",
    "                #print(\"not prime\")\n",
    "                return False\n",
    "                break\n",
    "            else:\n",
    "                #print(\"prime\")\n",
    "                return True\n",
    "    else:\n",
    "        #print(\"not prime\")\n",
    "        return False"
   ]
  },
  {
   "cell_type": "markdown",
   "metadata": {},
   "source": [
    "# Q. take a list and check if the item are prime(using previoues fuction) \n",
    "and print the list of only the prime items"
   ]
  },
  {
   "cell_type": "code",
   "execution_count": 1,
   "metadata": {},
   "outputs": [],
   "source": [
    "list1 = [2,7,5,8,5]\n",
    "def take_prime(l1):\n",
    "    l1=[]\n",
    "    for i in l:\n",
    "        if(prime_not_not(i)):\n",
    "            l1.append(i)\n",
    "    return l1\n",
    "    \n",
    "                \n",
    "    "
   ]
  },
  {
   "cell_type": "code",
   "execution_count": 3,
   "metadata": {},
   "outputs": [
    {
     "ename": "NameError",
     "evalue": "name 'l1' is not defined",
     "output_type": "error",
     "traceback": [
      "\u001b[1;31m---------------------------------------------------------------------------\u001b[0m",
      "\u001b[1;31mNameError\u001b[0m                                 Traceback (most recent call last)",
      "\u001b[1;32m<ipython-input-3-dd8e502541fb>\u001b[0m in \u001b[0;36m<module>\u001b[1;34m\u001b[0m\n\u001b[1;32m----> 1\u001b[1;33m \u001b[0mresult\u001b[0m \u001b[1;33m=\u001b[0m \u001b[0mtake_prime\u001b[0m\u001b[1;33m(\u001b[0m\u001b[0ml1\u001b[0m\u001b[1;33m)\u001b[0m\u001b[1;33m\u001b[0m\u001b[1;33m\u001b[0m\u001b[0m\n\u001b[0m\u001b[0;32m      2\u001b[0m \u001b[0mresult\u001b[0m\u001b[1;33m\u001b[0m\u001b[1;33m\u001b[0m\u001b[0m\n",
      "\u001b[1;31mNameError\u001b[0m: name 'l1' is not defined"
     ]
    }
   ],
   "source": [
    "result = take_prime(l1)\n",
    "result"
   ]
  },
  {
   "cell_type": "code",
   "execution_count": 4,
   "metadata": {},
   "outputs": [],
   "source": [
    "l1 = [2,4,6,7,8,9]"
   ]
  },
  {
   "cell_type": "code",
   "execution_count": null,
   "metadata": {},
   "outputs": [],
   "source": [
    "def prime_or_not()"
   ]
  }
 ],
 "metadata": {
  "kernelspec": {
   "display_name": "Python 3",
   "language": "python",
   "name": "python3"
  },
  "language_info": {
   "codemirror_mode": {
    "name": "ipython",
    "version": 3
   },
   "file_extension": ".py",
   "mimetype": "text/x-python",
   "name": "python",
   "nbconvert_exporter": "python",
   "pygments_lexer": "ipython3",
   "version": "3.7.6"
  }
 },
 "nbformat": 4,
 "nbformat_minor": 4
}
