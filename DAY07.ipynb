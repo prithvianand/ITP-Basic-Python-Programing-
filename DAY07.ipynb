{
 "cells": [
  {
   "cell_type": "markdown",
   "metadata": {},
   "source": [
    "# loops\n"
   ]
  },
  {
   "cell_type": "code",
   "execution_count": 1,
   "metadata": {},
   "outputs": [],
   "source": [
    "# particulalar action need to be excicuted n number of times\n"
   ]
  },
  {
   "cell_type": "code",
   "execution_count": 11,
   "metadata": {},
   "outputs": [
    {
     "name": "stdout",
     "output_type": "stream",
     "text": [
      "5\n",
      "8\n",
      "6\n",
      "9\n",
      "10\n"
     ]
    }
   ],
   "source": [
    "l1 = [3,6,4,7,8]\n",
    "for i in l1:\n",
    "    a = i+2\n",
    "    print(a)"
   ]
  },
  {
   "cell_type": "code",
   "execution_count": 3,
   "metadata": {},
   "outputs": [
    {
     "data": {
      "text/plain": [
       "range(0, 10)"
      ]
     },
     "execution_count": 3,
     "metadata": {},
     "output_type": "execute_result"
    }
   ],
   "source": [
    "# range(0,10) it is collection of num from 0 to 9\n",
    "range(0,10)"
   ]
  },
  {
   "cell_type": "code",
   "execution_count": 5,
   "metadata": {},
   "outputs": [
    {
     "data": {
      "text/plain": [
       "range(0, 10)"
      ]
     },
     "execution_count": 5,
     "metadata": {},
     "output_type": "execute_result"
    }
   ],
   "source": [
    "range(10)"
   ]
  },
  {
   "cell_type": "code",
   "execution_count": 6,
   "metadata": {},
   "outputs": [
    {
     "data": {
      "text/plain": [
       "range(0, 5)"
      ]
     },
     "execution_count": 6,
     "metadata": {},
     "output_type": "execute_result"
    }
   ],
   "source": [
    "range(len(l1))"
   ]
  },
  {
   "cell_type": "code",
   "execution_count": 8,
   "metadata": {},
   "outputs": [
    {
     "name": "stdout",
     "output_type": "stream",
     "text": [
      "10\n",
      "11\n",
      "13\n",
      "16\n",
      "20\n"
     ]
    }
   ],
   "source": [
    "for i in range(len(l1)):\n",
    "    a+=i\n",
    "    print(a)"
   ]
  },
  {
   "cell_type": "code",
   "execution_count": 9,
   "metadata": {},
   "outputs": [
    {
     "name": "stdout",
     "output_type": "stream",
     "text": [
      "['replace', 6, 'replace', 7, 'replace']\n"
     ]
    }
   ],
   "source": [
    "# to replace even number place\n",
    "for i in range(len(l1)):\n",
    "    if(i%2==0):\n",
    "        l1[i]='replace'\n",
    "print(l1)"
   ]
  },
  {
   "cell_type": "code",
   "execution_count": 12,
   "metadata": {
    "scrolled": true
   },
   "outputs": [
    {
     "name": "stdout",
     "output_type": "stream",
     "text": [
      "[3, 6, 4, 7, 8]\n",
      "['replace', 6, 4, 7, 8]\n",
      "['replace', 6, 4, 7, 8]\n",
      "['replace', 6, 'replace', 7, 8]\n",
      "['replace', 6, 'replace', 7, 8]\n"
     ]
    }
   ],
   "source": [
    "# print will be exicuted as many times AS FOR RUNS\n",
    "\n",
    "l1 = [3,6,4,7,8]\n",
    "for i in range(len(l1)):\n",
    "    print(l1)\n",
    "    if(i%2==0):\n",
    "        l1[i]='replace'\n"
   ]
  },
  {
   "cell_type": "markdown",
   "metadata": {},
   "source": [
    "Q1 take a list of 5 name of fruits. convert each name to upper case and print the updated list\n"
   ]
  },
  {
   "cell_type": "code",
   "execution_count": 13,
   "metadata": {},
   "outputs": [
    {
     "name": "stdout",
     "output_type": "stream",
     "text": [
      "['MANGO', 'JACKFRUIT', 'XYZ', 'ABC', 'BCD']\n"
     ]
    }
   ],
   "source": [
    "fruits = ['mango','jackfruit','xyz','abc','bcd']\n",
    "for i in range(len(fruits)):\n",
    "    fruits[i] = fruits[i].upper()\n",
    "print(fruits)\n"
   ]
  },
  {
   "cell_type": "code",
   "execution_count": 15,
   "metadata": {},
   "outputs": [
    {
     "ename": "AttributeError",
     "evalue": "'list' object has no attribute 'upper'",
     "output_type": "error",
     "traceback": [
      "\u001b[1;31m---------------------------------------------------------------------------\u001b[0m",
      "\u001b[1;31mAttributeError\u001b[0m                            Traceback (most recent call last)",
      "\u001b[1;32m<ipython-input-15-dee1d172f590>\u001b[0m in \u001b[0;36m<module>\u001b[1;34m\u001b[0m\n\u001b[0;32m      1\u001b[0m \u001b[0mfruits\u001b[0m \u001b[1;33m=\u001b[0m \u001b[1;33m[\u001b[0m\u001b[1;34m'mango'\u001b[0m\u001b[1;33m,\u001b[0m\u001b[1;34m'jackfruit'\u001b[0m\u001b[1;33m,\u001b[0m\u001b[1;34m'xyz'\u001b[0m\u001b[1;33m,\u001b[0m\u001b[1;34m'abc'\u001b[0m\u001b[1;33m,\u001b[0m\u001b[1;34m'bcd'\u001b[0m\u001b[1;33m]\u001b[0m\u001b[1;33m\u001b[0m\u001b[1;33m\u001b[0m\u001b[0m\n\u001b[1;32m----> 2\u001b[1;33m \u001b[0mfruits_list\u001b[0m\u001b[1;33m=\u001b[0m\u001b[0mfruits\u001b[0m\u001b[1;33m.\u001b[0m\u001b[0mupper\u001b[0m\u001b[1;33m(\u001b[0m\u001b[1;33m)\u001b[0m\u001b[1;33m\u001b[0m\u001b[1;33m\u001b[0m\u001b[0m\n\u001b[0m\u001b[0;32m      3\u001b[0m \u001b[0mprint\u001b[0m\u001b[1;33m(\u001b[0m\u001b[0mfruits_list\u001b[0m\u001b[1;33m)\u001b[0m\u001b[1;33m\u001b[0m\u001b[1;33m\u001b[0m\u001b[0m\n",
      "\u001b[1;31mAttributeError\u001b[0m: 'list' object has no attribute 'upper'"
     ]
    }
   ],
   "source": [
    "# this way fruits is not possible to run \n",
    "\n",
    "fruits = ['mango','jackfruit','xyz','abc','bcd']\n",
    "fruits_list=fruits.upper()\n",
    "print(fruits_list)"
   ]
  },
  {
   "cell_type": "code",
   "execution_count": 16,
   "metadata": {},
   "outputs": [
    {
     "name": "stdout",
     "output_type": "stream",
     "text": [
      "dad homer\n",
      "mom marger\n",
      "size 6\n"
     ]
    }
   ],
   "source": [
    "# iterate through two things at once (using tuple unpacking)\n",
    "\n",
    "family = {'dad':'homer','mom':'marger','size':6}\n",
    "for key, value in family.items():\n",
    "    print(key,value)"
   ]
  },
  {
   "cell_type": "markdown",
   "metadata": {},
   "source": [
    "Q2 take a dictionary having the value \"mary\" repeated for 3 keys. wherever the value is \"mary\" replace it by \"dora\". print the updated dictionary."
   ]
  },
  {
   "cell_type": "code",
   "execution_count": 5,
   "metadata": {},
   "outputs": [
    {
     "name": "stdout",
     "output_type": "stream",
     "text": [
      "{'Marry': 'a4', 'Dora': 'a2'}\n"
     ]
    }
   ],
   "source": [
    "f1 = {'Marry':'a1','Dora':'a2','Marry':'a3','Marry':'a4'}\n",
    "for key,value in f1.items():\n",
    "    if value == 'Marry':\n",
    "        f1[key] = 'Dora'\n",
    "print(f1)"
   ]
  },
  {
   "cell_type": "markdown",
   "metadata": {},
   "source": [
    "Q2 take a list of 10 numbers. if the num is even, square it.\n",
    "if the num is odd, cube it.\n",
    "do not make the checnges in the original list.\n",
    "show the output as list after the changes have been made.\n",
    "print both the original list, and the changed list"
   ]
  },
  {
   "cell_type": "code",
   "execution_count": 12,
   "metadata": {},
   "outputs": [
    {
     "name": "stdout",
     "output_type": "stream",
     "text": [
      "[2, 4, 13, 15, 16, 18, 20, 25, 26, 30]\n",
      "[4, 16, 2197, 3375, 256, 324, 400, 15625, 676, 900]\n"
     ]
    }
   ],
   "source": [
    "num = [2,4,13,15,16,18,20,25,26,30]\n",
    "num1 = []\n",
    "for i in num:\n",
    "    if i%2 == 0:\n",
    "        num1.append(i**2)\n",
    "    else:\n",
    "        num1.append(i**3)\n",
    "print(num)\n",
    "print(num1)\n"
   ]
  },
  {
   "cell_type": "code",
   "execution_count": 14,
   "metadata": {},
   "outputs": [
    {
     "name": "stdout",
     "output_type": "stream",
     "text": [
      "[4, 16, 2197, 3375, 256, 324, 400, 15625, 676, 900]\n"
     ]
    }
   ],
   "source": [
    "num = [2,4,13,15,16,18,20,25,26,30]\n",
    "num1 = []\n",
    "for i in range(len(num)):\n",
    "    if num[i]%2 == 0:\n",
    "        num[i]=(num[i]**2)\n",
    "    else:\n",
    "        num[i]=(num[i]**3)\n",
    "print(num)\n",
    "\n"
   ]
  },
  {
   "cell_type": "markdown",
   "metadata": {},
   "source": [
    "Q3 s=\"Once upon a time there was a king. His name was arthur. He was a great king.\"\n",
    "\n",
    "make a list of all words in this string which have length greater then 4. convert all to upper case. make as separate list of the other words. convert all to lower case.\n",
    "\n",
    "print out the 2 lists of words.\n"
   ]
  },
  {
   "cell_type": "code",
   "execution_count": 11,
   "metadata": {},
   "outputs": [
    {
     "name": "stdout",
     "output_type": "stream",
     "text": [
      "['THERE', 'KING.', 'ARTHUR.', 'GREAT']\n",
      "['once', 'upon', 'a', 'time', 'was', 'a', 'his', 'name', 'was', 'he', 'was', 'a', 'king']\n"
     ]
    }
   ],
   "source": [
    "s = \"Once upon a time there was a king. His name was arthur. He was a great king\"\n",
    "s1 = list(s.split())\n",
    "for i in range(len(s1)):\n",
    "    if len(s1[i]) > 4:\n",
    "        s1[i]=s1[i].upper()\n",
    "    else:\n",
    "        s1[i]=s1[i].lower()\n",
    "print(s1)\n",
    "\n",
    "print(s)\n",
    "        \n",
    "        \n",
    "    \n"
   ]
  },
  {
   "cell_type": "code",
   "execution_count": 12,
   "metadata": {},
   "outputs": [
    {
     "name": "stdout",
     "output_type": "stream",
     "text": [
      "['Once', 'upon', 'a', 'time', 'there', 'was', 'a', 'king.', 'His', 'name', 'was', 'arthur.', 'He', 'was', 'a', 'great', 'king']\n",
      "Once upon a time there was a king. His name was arthur. He was a great king\n",
      "['THERE', 'KING.', 'ARTHUR.', 'GREAT']\n",
      "['once', 'upon', 'a', 'time', 'was', 'a', 'his', 'name', 'was', 'he', 'was', 'a', 'king']\n"
     ]
    }
   ],
   "source": [
    "s = \"Once upon a time there was a king. His name was arthur. He was a great king\"\n",
    "s1 = list(s.split())\n",
    "l1 = []\n",
    "l2 = []\n",
    "for i in range(len(s1)):\n",
    "    if len(s1[i]) > 4:\n",
    "        l1.append(s1[i].upper())\n",
    "    else:\n",
    "        l2.append(s1[i].lower())\n",
    "print(s1)\n",
    "print(s)\n",
    "print(l1)\n",
    "print(l2)"
   ]
  },
  {
   "cell_type": "code",
   "execution_count": 15,
   "metadata": {},
   "outputs": [
    {
     "ename": "SyntaxError",
     "evalue": "invalid syntax (<ipython-input-15-276179f0a16c>, line 3)",
     "output_type": "error",
     "traceback": [
      "\u001b[1;36m  File \u001b[1;32m\"<ipython-input-15-276179f0a16c>\"\u001b[1;36m, line \u001b[1;32m3\u001b[0m\n\u001b[1;33m    s2 = list(s1.split())\u001b[0m\n\u001b[1;37m     ^\u001b[0m\n\u001b[1;31mSyntaxError\u001b[0m\u001b[1;31m:\u001b[0m invalid syntax\n"
     ]
    }
   ],
   "source": [
    "s = \"Once upon a time there was a king. His name was arthur. He was a great king\"\n",
    "s1 = list(s.del(\".\")\n",
    "s2 = list(s1.split())\n",
    "l1 = []\n",
    "l2 = []\n",
    "for i in range(len(s2)):\n",
    "    if len(s2[i]) > 4:\n",
    "        l1.append(s2[i].upper())\n",
    "    else:\n",
    "        l2.append(s2[i].lower())\n",
    "print(l1)\n",
    "print(l2)"
   ]
  },
  {
   "cell_type": "code",
   "execution_count": 18,
   "metadata": {},
   "outputs": [
    {
     "name": "stdout",
     "output_type": "stream",
     "text": [
      "['THERE', 'ARTHUR', 'GREAT']\n",
      "['once', 'upon', 'a', 'time', 'was', 'a', 'king', 'his', 'name', 'was', 'he', 'was', 'a', 'king']\n"
     ]
    }
   ],
   "source": [
    "s = \"Once upon a time there was a king. His name was arthur. He was a great king\"\n",
    "s1 = s.split(\".\")\n",
    "res = []\n",
    "for i in s1:\n",
    "    y = i.split()\n",
    "    res.extend(y)\n",
    "l1 = []\n",
    "l2 = []\n",
    "for i in res:\n",
    "    if (len(i) > 4):\n",
    "        l1.append(i.upper())\n",
    "    else:\n",
    "        l2.append(i.lower())\n",
    "print(l1)\n",
    "print(l2)\n"
   ]
  },
  {
   "cell_type": "markdown",
   "metadata": {},
   "source": [
    "## while loop"
   ]
  },
  {
   "cell_type": "code",
   "execution_count": 19,
   "metadata": {},
   "outputs": [
    {
     "name": "stdout",
     "output_type": "stream",
     "text": [
      "5 times\n",
      "5 times\n",
      "5 times\n",
      "5 times\n",
      "5 times\n",
      "while loop breaks\n"
     ]
    }
   ],
   "source": [
    "i = 0\n",
    "while i < 5:\n",
    "    print(\"5 times\")\n",
    "    i += 1\n",
    "print(\"while loop breaks\")"
   ]
  },
  {
   "cell_type": "markdown",
   "metadata": {},
   "source": [
    "Q2 take a list of 5 name of fruits. convert each name to upper case and print the updated list"
   ]
  },
  {
   "cell_type": "code",
   "execution_count": 2,
   "metadata": {},
   "outputs": [
    {
     "name": "stdout",
     "output_type": "stream",
     "text": [
      "['MANGO', 'JACKFRUIT', 'XYZ', 'ABC', 'BCD']\n"
     ]
    }
   ],
   "source": [
    "fruits = ['mango','jackfruit','xyz','abc','bcd']\n",
    "i = 0\n",
    "while i < len(fruits):\n",
    "    \n",
    "    fruits[i] = fruits[i].upper()\n",
    "    i += 1\n",
    "    \n",
    "print(fruits)"
   ]
  },
  {
   "cell_type": "markdown",
   "metadata": {},
   "source": [
    "# prefer using for insted of while\n"
   ]
  },
  {
   "cell_type": "markdown",
   "metadata": {},
   "source": [
    "Q2 take a list of 5 name of fruits. convert each name to upper case and print the updated list using while loop. \n",
    "\n",
    "\n",
    "\n",
    "## keep doing this orrange is found"
   ]
  },
  {
   "cell_type": "code",
   "execution_count": 4,
   "metadata": {},
   "outputs": [
    {
     "name": "stdout",
     "output_type": "stream",
     "text": [
      "['MANGO', 'JACKFRUIT', 'XYZ', 'ABC', 'BCD']\n"
     ]
    }
   ],
   "source": [
    "fruits = ['mango','jackfruit','xyz','abc','bcd']\n",
    "i = 0\n",
    "while i < len(fruits):\n",
    "    if (fruits[i] == \"orange\"):\n",
    "        break\n",
    "    else:\n",
    "        fruits[i] = fruits[i].upper()\n",
    "        i += 1\n",
    "    \n",
    "print(fruits)"
   ]
  },
  {
   "cell_type": "markdown",
   "metadata": {},
   "source": [
    "## Q Write a program to add th first n natural num take the value of n as an input from the user??"
   ]
  },
  {
   "cell_type": "markdown",
   "metadata": {},
   "source": [
    "# using while loop"
   ]
  },
  {
   "cell_type": "code",
   "execution_count": 7,
   "metadata": {},
   "outputs": [
    {
     "name": "stdout",
     "output_type": "stream",
     "text": [
      "Value of n ==>150\n",
      "[1, 2, 3, 4, 5, 6, 7, 8, 9, 10, 11, 12, 13, 14, 15, 16, 17, 18, 19, 20, 21, 22, 23, 24, 25, 26, 27, 28, 29, 30, 31, 32, 33, 34, 35, 36, 37, 38, 39, 40, 41, 42, 43, 44, 45, 46, 47, 48, 49, 50, 51, 52, 53, 54, 55, 56, 57, 58, 59, 60, 61, 62, 63, 64, 65, 66, 67, 68, 69, 70, 71, 72, 73, 74, 75, 76, 77, 78, 79, 80, 81, 82, 83, 84, 85, 86, 87, 88, 89, 90, 91, 92, 93, 94, 95, 96, 97, 98, 99, 100, 101, 102, 103, 104, 105, 106, 107, 108, 109, 110, 111, 112, 113, 114, 115, 116, 117, 118, 119, 120, 121, 122, 123, 124, 125, 126, 127, 128, 129, 130, 131, 132, 133, 134, 135, 136, 137, 138, 139, 140, 141, 142, 143, 144, 145, 146, 147, 148, 149, 150]\n"
     ]
    }
   ],
   "source": [
    "l1 = []\n",
    "n = int(input(\"Value of n ==>\"))\n",
    "i = 1\n",
    "while i <= n:\n",
    "    l1.append(i)\n",
    "    i+=1\n",
    "print(l1)\n",
    "    "
   ]
  },
  {
   "cell_type": "markdown",
   "metadata": {},
   "source": [
    "## Using for loop"
   ]
  },
  {
   "cell_type": "code",
   "execution_count": 3,
   "metadata": {},
   "outputs": [
    {
     "name": "stdout",
     "output_type": "stream",
     "text": [
      "Enter the value of n ==> 3\n",
      "The list of natural numbers from 1 to 3\n",
      "1 2 3 "
     ]
    }
   ],
   "source": [
    "num = int(input(\"Enter the value of n ==> \"))\n",
    "print(\"The list of natural numbers from 1 to {}\".format(num))\n",
    "\n",
    "for i in range(1,num+1):\n",
    "    print(i, end = ' ')\n",
    "    \n",
    "    \n",
    "\n",
    "    "
   ]
  },
  {
   "cell_type": "code",
   "execution_count": null,
   "metadata": {},
   "outputs": [],
   "source": []
  }
 ],
 "metadata": {
  "kernelspec": {
   "display_name": "Python 3",
   "language": "python",
   "name": "python3"
  },
  "language_info": {
   "codemirror_mode": {
    "name": "ipython",
    "version": 3
   },
   "file_extension": ".py",
   "mimetype": "text/x-python",
   "name": "python",
   "nbconvert_exporter": "python",
   "pygments_lexer": "ipython3",
   "version": "3.7.6"
  }
 },
 "nbformat": 4,
 "nbformat_minor": 4
}
