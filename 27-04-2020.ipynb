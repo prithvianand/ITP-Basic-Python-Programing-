{
 "cells": [
  {
   "cell_type": "code",
   "execution_count": 4,
   "metadata": {},
   "outputs": [
    {
     "name": "stdout",
     "output_type": "stream",
     "text": [
      "INDIA\n",
      "AUSTRALIA\n",
      "USA\n",
      "EUROPE\n"
     ]
    }
   ],
   "source": [
    "# Q1 Every word can be a words in list to convert it to upper case ?\n",
    "\n",
    "wordlist = ['India','Australia','Usa','Europe']\n",
    "\n",
    "u = []\n",
    "\n",
    "for i in wordlist:\n",
    "    print(i.upper())"
   ]
  },
  {
   "cell_type": "code",
   "execution_count": 8,
   "metadata": {},
   "outputs": [
    {
     "name": "stdout",
     "output_type": "stream",
     "text": [
      "IND\n",
      "AUS\n",
      "USA\n",
      "EUR\n"
     ]
    }
   ],
   "source": [
    "# Q2 Encode the country names as IND, AUS, EUR\n",
    "\n",
    "wordlist = ['India','Australia','Usa','Europe']\n",
    "\n",
    "\n",
    "for i in wordlist:\n",
    "    print(i[:3].upper())"
   ]
  },
  {
   "cell_type": "code",
   "execution_count": 11,
   "metadata": {},
   "outputs": [
    {
     "name": "stdout",
     "output_type": "stream",
     "text": [
      "2\n",
      "2\n",
      "6\n",
      "4\n",
      "10\n",
      "6\n",
      "14\n",
      "8\n",
      "18\n",
      "10\n"
     ]
    }
   ],
   "source": [
    "# Q3 Given a list of numbers, multiply every second element by 2\n",
    "\n",
    "number = [1,2,3,4,5,6,7,8,9,10]\n",
    "\n",
    "for i in range(len(number)):\n",
    "    if i%2 == 0:\n",
    "        print(number[i]*2)\n",
    "    else:\n",
    "        print(number[i])\n"
   ]
  },
  {
   "cell_type": "code",
   "execution_count": 18,
   "metadata": {},
   "outputs": [
    {
     "name": "stdout",
     "output_type": "stream",
     "text": [
      "Enter the number: 3\n",
      "5\n",
      "7\n",
      "11\n",
      "13\n",
      "17\n",
      "19\n"
     ]
    }
   ],
   "source": [
    "# Q4 Take a number as input AND PRINT THE NEXT 5 PRIME NUMBER\n",
    "\n",
    "import math\n",
    "\n",
    "x = int(input('Enter the number: '))\n",
    "\n",
    "count = 0\n",
    "\n",
    "while count <= 5:\n",
    "    x = x+1\n",
    "    \n",
    "    # check prime\n",
    "    isprime = 1\n",
    "    i = 2\n",
    "    while i <= math.sqrt(x):\n",
    "        if x%i == 0:\n",
    "            isprime = 0\n",
    "            break\n",
    "        else:\n",
    "            isprime = 1\n",
    "        i += 1\n",
    "        \n",
    "    if isprime == 1:\n",
    "        print(x)\n",
    "        count += 1"
   ]
  },
  {
   "cell_type": "code",
   "execution_count": 27,
   "metadata": {},
   "outputs": [
    {
     "name": "stdout",
     "output_type": "stream",
     "text": [
      "{'f': 3, 'a': 8, 'm': 5, 'e': 13, ' ': 25, 'd': 2, 'o': 12, 's': 7, 'n': 8, \"'\": 1, 't': 9, 'l': 5, 'g': 4, 'r': 7, 'y': 4, '.': 2, 'w': 1, 'h': 6, 'i': 6, 'j': 1, 'c': 3, ',': 1, 'u': 1, 'p': 2, 'b': 2, 'k': 1}\n"
     ]
    }
   ],
   "source": [
    "# Q5 find the frequency of occourance of evey charecter in a string\n",
    "#    iterate a string\n",
    "#    if the character is not present in the dictionary then odd it to the dict\n",
    "#    with the frequency count 1\n",
    "#    if its already present, then increment the count by 1\n",
    "\n",
    "s = \"Fame doesn't last long for many. While some stars enjoy their legacy for a long time, others end up becoming a chapter in the history book.\"\n",
    "f = {} \n",
    "  \n",
    "for char in s:\n",
    "    char = char.lower()\n",
    "    if char in f.keys():\n",
    "        f[char] += 1\n",
    "    else:\n",
    "        f[char] = 1\n",
    "print(f)"
   ]
  },
  {
   "cell_type": "code",
   "execution_count": 35,
   "metadata": {},
   "outputs": [
    {
     "name": "stdout",
     "output_type": "stream",
     "text": [
      "{'f': 2, 'a': 3, 'm': 2, 'e': 2, ' ': 5, 'd': 1, 'o': 3, 's': 2, 'n': 3, \"'\": 1, 't': 2, 'l': 2, 'g': 1, 'r': 1, 'y': 1, '.': 1}\n"
     ]
    }
   ],
   "source": [
    "s = \"Fame doesn't last long for many.\"\n",
    "f = {} \n",
    "  \n",
    "for char in s:\n",
    "    char = char.lower()\n",
    "    if char in f.keys():\n",
    "        f[char] += 1\n",
    "    else:\n",
    "        f[char] = 1\n",
    "print(f)"
   ]
  },
  {
   "cell_type": "code",
   "execution_count": 37,
   "metadata": {},
   "outputs": [
    {
     "data": {
      "text/plain": [
       "2"
      ]
     },
     "execution_count": 37,
     "metadata": {},
     "output_type": "execute_result"
    }
   ],
   "source": [
    "f['e']"
   ]
  },
  {
   "cell_type": "code",
   "execution_count": 39,
   "metadata": {},
   "outputs": [
    {
     "data": {
      "text/plain": [
       "dict_keys(['f', 'a', 'm', 'e', ' ', 'd', 'o', 's', 'n', \"'\", 't', 'l', 'g', 'r', 'y', '.'])"
      ]
     },
     "execution_count": 39,
     "metadata": {},
     "output_type": "execute_result"
    }
   ],
   "source": [
    "f.keys()"
   ]
  },
  {
   "cell_type": "code",
   "execution_count": 50,
   "metadata": {},
   "outputs": [
    {
     "name": "stdout",
     "output_type": "stream",
     "text": [
      "Fam@ do@sn't last long for many.\n"
     ]
    }
   ],
   "source": [
    "# Q6 in the above function replace e with the @ symbol\n",
    "\n",
    "s = \"Fame doesn't last long for many.\"\n",
    "\n",
    "r = s.replace('e','@')\n",
    "\n",
    "print(r)"
   ]
  },
  {
   "cell_type": "code",
   "execution_count": 51,
   "metadata": {},
   "outputs": [
    {
     "data": {
      "text/plain": [
       "['Fame', \"doesn't\", 'last', 'long', 'for', 'many.']"
      ]
     },
     "execution_count": 51,
     "metadata": {},
     "output_type": "execute_result"
    }
   ],
   "source": [
    "# Q7 split the above string and form a list of words.\n",
    "\n",
    "s = \"Fame doesn't last long for many.\"\n",
    "s.split(' ')"
   ]
  },
  {
   "cell_type": "code",
   "execution_count": 53,
   "metadata": {},
   "outputs": [
    {
     "data": {
      "text/plain": [
       "13"
      ]
     },
     "execution_count": 53,
     "metadata": {},
     "output_type": "execute_result"
    }
   ],
   "source": [
    "# find function in python\n",
    "s.find('l') #  it will show index of the \"l\" "
   ]
  },
  {
   "cell_type": "code",
   "execution_count": 54,
   "metadata": {},
   "outputs": [],
   "source": [
    "# Neha.n@greatlearning.in for quaries\n"
   ]
  },
  {
   "cell_type": "code",
   "execution_count": null,
   "metadata": {},
   "outputs": [],
   "source": []
  }
 ],
 "metadata": {
  "kernelspec": {
   "display_name": "Python 3",
   "language": "python",
   "name": "python3"
  },
  "language_info": {
   "codemirror_mode": {
    "name": "ipython",
    "version": 3
   },
   "file_extension": ".py",
   "mimetype": "text/x-python",
   "name": "python",
   "nbconvert_exporter": "python",
   "pygments_lexer": "ipython3",
   "version": "3.7.6"
  }
 },
 "nbformat": 4,
 "nbformat_minor": 4
}
