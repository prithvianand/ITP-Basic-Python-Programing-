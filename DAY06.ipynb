{
 "cells": [
  {
   "cell_type": "code",
   "execution_count": null,
   "metadata": {},
   "outputs": [],
   "source": [
    "# # Calculator problem\n",
    "\n",
    "x = int(input('press 1 for addition , 2 for subtraction , 3 for division, 4 for multipication'))\n",
    "\n",
    "a = float(input())\n",
    "b = float(input())\n",
    "\n",
    "if x == 1:\n",
    "    result = a + b\n",
    "    print(\"your result is = \",result)\n",
    "elif x == 2:\n",
    "    result = a - b\n",
    "    print(\"your result is = \",result)\n",
    "elif x == 3:\n",
    "    result = a/b\n",
    "    print(\"your result is = \",result)\n",
    "elif x == 4:\n",
    "    result = a*b\n",
    "    print(\"your result is = \",result)\n",
    "else:\n",
    "    print(\"invalid\")"
   ]
  },
  {
   "cell_type": "code",
   "execution_count": 3,
   "metadata": {},
   "outputs": [
    {
     "name": "stdout",
     "output_type": "stream",
     "text": [
      "press 1 for addition , 2 for subtraction , 3 for division, 4 for multipication1\n"
     ]
    },
    {
     "ename": "NameError",
     "evalue": "name 'string' is not defined",
     "output_type": "error",
     "traceback": [
      "\u001b[1;31m---------------------------------------------------------------------------\u001b[0m",
      "\u001b[1;31mNameError\u001b[0m                                 Traceback (most recent call last)",
      "\u001b[1;32m<ipython-input-3-ecd336c8c422>\u001b[0m in \u001b[0;36m<module>\u001b[1;34m\u001b[0m\n\u001b[0;32m      1\u001b[0m \u001b[0mx\u001b[0m \u001b[1;33m=\u001b[0m \u001b[0mint\u001b[0m\u001b[1;33m(\u001b[0m\u001b[0minput\u001b[0m\u001b[1;33m(\u001b[0m\u001b[1;34m'press 1 for addition , 2 for subtraction , 3 for division, 4 for multipication'\u001b[0m\u001b[1;33m)\u001b[0m\u001b[1;33m)\u001b[0m\u001b[1;33m\u001b[0m\u001b[1;33m\u001b[0m\u001b[0m\n\u001b[0;32m      2\u001b[0m \u001b[1;33m\u001b[0m\u001b[0m\n\u001b[1;32m----> 3\u001b[1;33m \u001b[0mtype_of_numbers\u001b[0m \u001b[1;33m=\u001b[0m \u001b[0mstring\u001b[0m\u001b[1;33m(\u001b[0m\u001b[0minput\u001b[0m\u001b[1;33m(\u001b[0m\u001b[1;34m\"what type of the numbers?? ==> f for float, i for int. == \"\u001b[0m\u001b[1;33m)\u001b[0m\u001b[1;33m)\u001b[0m\u001b[1;33m\u001b[0m\u001b[1;33m\u001b[0m\u001b[0m\n\u001b[0m\u001b[0;32m      4\u001b[0m \u001b[1;33m\u001b[0m\u001b[0m\n\u001b[0;32m      5\u001b[0m \u001b[1;32mif\u001b[0m \u001b[0mtype_of_number\u001b[0m \u001b[1;33m==\u001b[0m \u001b[0mf\u001b[0m\u001b[1;33m:\u001b[0m\u001b[1;33m\u001b[0m\u001b[1;33m\u001b[0m\u001b[0m\n",
      "\u001b[1;31mNameError\u001b[0m: name 'string' is not defined"
     ]
    }
   ],
   "source": [
    "x = int(input('press 1 for addition , 2 for subtraction , 3 for division, 4 for multipication'))\n",
    "\n",
    "type_of_numbers = string(input(\"what type of the numbers?? ==> f for float, i for int. == \"))\n",
    "\n",
    "if type_of_number == f:\n",
    "    a = float(input())\n",
    "    b = float(input())\n",
    "elif type_of_number == i:\n",
    "    a = int(input())\n",
    "    b = int(input())\n",
    "else:\n",
    "    print(\"invalid\")\n",
    "\n",
    "\n",
    "if x == 1:\n",
    "    result = a + b\n",
    "    print(\"your result is = \",result)\n",
    "elif x == 2:\n",
    "    result = a - b\n",
    "    print(\"your result is = \",result)\n",
    "elif x == 3:\n",
    "    result = a/b\n",
    "    print(\"your result is = \",result)\n",
    "elif x == 4:\n",
    "    result = a*b\n",
    "    print(\"your result is = \",result)\n",
    "else:\n",
    "    print(\"invalid\")"
   ]
  },
  {
   "cell_type": "code",
   "execution_count": 9,
   "metadata": {},
   "outputs": [
    {
     "name": "stdout",
     "output_type": "stream",
     "text": [
      "num ==5\n",
      "odd\n"
     ]
    }
   ],
   "source": [
    "# odd or even or zero \n",
    "\n",
    "a = float(input(\"num ==\"))\n",
    "\n",
    "if a == 0:\n",
    "    print(\"number is zero\")\n",
    "elif a%2 == 0:\n",
    "    print(\"even\")\n",
    "else:\n",
    "    print(\"odd\")"
   ]
  },
  {
   "cell_type": "markdown",
   "metadata": {},
   "source": [
    " take list of ten items.\n",
    " if the len of the list is even , replace the second item with even\n",
    " if the len of the list is odd, replace the third\n",
    "  item with odd \n",
    " print the list"
   ]
  },
  {
   "cell_type": "code",
   "execution_count": 18,
   "metadata": {},
   "outputs": [
    {
     "name": "stdout",
     "output_type": "stream",
     "text": [
      "[1, 'even', 3, 5, 6, 13, 12, 17]\n",
      "length of the list 8\n"
     ]
    }
   ],
   "source": [
    "x = [1,2,3,5,6,13,12,17]\n",
    "\n",
    "if len(x) % 2 == 0:\n",
    "    x[1] = \"even\"\n",
    "else:\n",
    "    x[2] = \"odd\"\n",
    "print(x)\n",
    "print(\"length of the list\",len(x))"
   ]
  },
  {
   "cell_type": "markdown",
   "metadata": {},
   "source": [
    "where ever you want to break the code use \"BREAK\"\n"
   ]
  },
  {
   "cell_type": "markdown",
   "metadata": {},
   "source": [
    "# dictionary\n",
    "Q3 take a dictionary of any number of key ==value pairs.\n",
    "    if \"Mary\" is present as one of the keys, convert corresponding value to all upper case letter, and print the length of the value.\n",
    "    if \"Dora is present as one of the keys, convert corresponding value to all lower case letter and print the lenth of the value\n",
    "    if both are not present  add the new key value pair \"mary\":\"dora\" to the dictionary"
   ]
  },
  {
   "cell_type": "code",
   "execution_count": 41,
   "metadata": {},
   "outputs": [
    {
     "name": "stdout",
     "output_type": "stream",
     "text": [
      "length of the d 2\n",
      "length of the d 2\n",
      "{'Mary': 'K1', 'Dora': 'k3', 'Raju': 'k3', 'Jon': 'k4', 'Ron': 'k5'}\n"
     ]
    }
   ],
   "source": [
    "d = {\"Mary\":\"k1\",\"Dora\":\"k3\",\"Raju\":\"k3\",\"Jon\":\"k4\",\"Ron\":\"k5\" }\n",
    "if (\"Mary\" in d):\n",
    "    x = d[\"Mary\"]\n",
    "    d[\"Mary\"] = x.upper()\n",
    "    print(\"length of the d\",len(x))\n",
    "if (\"Dora\" in d):\n",
    "    x = d[\"Dora\"]\n",
    "    d[\"Dora\"] = x.lower()\n",
    "    print(\"length of the d\",len(x))\n",
    "if not \"Mary\" in d and \"Dora\" in d:\n",
    "    d[\"mary\"]=\"Dora\"\n",
    "    print(\"length of the d\",len(d))\n",
    "print(d)"
   ]
  },
  {
   "cell_type": "markdown",
   "metadata": {},
   "source": [
    "Q4 take a dictionary of any number of key ==value pairs. if \"Mary\" is present as one of the keys, convert corresponding value to all upper case letter, and if length longer then 3 print the length is greater than 3 of the value. if \"Dora is present as one of the keys, convert corresponding value to all lower case letter and if greater than 5 print the lenth is greater than 5 the value if both are not present add the new key value pair \"mary\":\"dora\" to the dictionary"
   ]
  },
  {
   "cell_type": "code",
   "execution_count": 38,
   "metadata": {},
   "outputs": [
    {
     "name": "stdout",
     "output_type": "stream",
     "text": [
      "length of the d 2\n",
      "{'Mary': 'K1', 'Raju': 'k3', 'Jon': 'k4', 'Ron': 'k5'}\n"
     ]
    }
   ],
   "source": [
    "d = {\"Mary\":\"k1\",\"Raju\":\"k3\",\"Jon\":\"k4\",\"Ron\":\"k5\" }\n",
    "if (\"Mary\" in d):\n",
    "    x = d[\"Mary\"]\n",
    "    d[\"Mary\"] = x.upper()\n",
    "    print(\"length of the d\",len(x))\n",
    "if (\"Dora\" in d):\n",
    "    x = d[\"Dora\"]\n",
    "    d[\"Dora\"] = x.lower()\n",
    "    print(\"length of the d\",len(x))\n",
    "if not \"Mary\" in d and \"Dora\" in d:\n",
    "    d[\"mary\"]=\"Dora\"\n",
    "    print(\"length of the d\",len(d))\n",
    "print(d)"
   ]
  },
  {
   "cell_type": "code",
   "execution_count": 3,
   "metadata": {},
   "outputs": [
    {
     "name": "stdout",
     "output_type": "stream",
     "text": [
      "length is lower than 3\n",
      "{'Mary': 'K1', 'Raju': 'k3', 'Jon': 'k4', 'Ron': 'k5'}\n"
     ]
    }
   ],
   "source": [
    "d = {\"Mary\":\"k1\",\"Raju\":\"k3\",\"Jon\":\"k4\",\"Ron\":\"k5\" }\n",
    "if (\"Mary\" in d):\n",
    "    x = d[\"Mary\"]\n",
    "    d[\"Mary\"] = x.upper()\n",
    "    if len(x)>3:\n",
    "        print(\"length is greater than 3\")\n",
    "    else:\n",
    "        print(\"length is lower than 3\")\n",
    "        \n",
    "if (\"Dora\" in d):\n",
    "    x = d[\"Dora\"]\n",
    "    d[\"Dora\"] = x.lower()\n",
    "    if len(x)>5:\n",
    "        print(\"length is greater than 5\")\n",
    "    else:\n",
    "        print(\"length is lower than 5\")\n",
    "        \n",
    "if not \"Mary\" in d and \"Dora\" in d:\n",
    "    d[\"mary\"]=\"Dora\"\n",
    "    print(\"length of the d\")\n",
    "print(d)"
   ]
  },
  {
   "cell_type": "code",
   "execution_count": 45,
   "metadata": {},
   "outputs": [
    {
     "name": "stdout",
     "output_type": "stream",
     "text": [
      "length of the d 2\n",
      "{'Mary': 'K6', 'Raju': 'k3', 'Jon': 'k4', 'Ron': 'k5'}\n"
     ]
    }
   ],
   "source": [
    "d = {\"Mary\":[\"k1\",\"K6\"],\"Raju\":\"k3\",\"Jon\":\"k4\",\"Ron\":\"k5\" }\n",
    "if (\"Mary\" in d):\n",
    "    x = d[\"Mary\"][1]\n",
    "    d[\"Mary\"] = x.upper()\n",
    "    print(\"length of the d\",len(x))\n",
    "if (\"Dora\" in d):\n",
    "    x = d[\"Dora\"]\n",
    "    d[\"Dora\"] = x.lower()\n",
    "    print(\"length of the d\",len(x))\n",
    "if not \"Mary\" in d and \"Dora\" in d:\n",
    "    d[\"mary\"]=\"Dora\"\n",
    "    print(\"length of the d\",len(d))\n",
    "print(d)"
   ]
  },
  {
   "cell_type": "code",
   "execution_count": null,
   "metadata": {},
   "outputs": [],
   "source": []
  }
 ],
 "metadata": {
  "kernelspec": {
   "display_name": "Python 3",
   "language": "python",
   "name": "python3"
  },
  "language_info": {
   "codemirror_mode": {
    "name": "ipython",
    "version": 3
   },
   "file_extension": ".py",
   "mimetype": "text/x-python",
   "name": "python",
   "nbconvert_exporter": "python",
   "pygments_lexer": "ipython3",
   "version": "3.7.6"
  }
 },
 "nbformat": 4,
 "nbformat_minor": 4
}
